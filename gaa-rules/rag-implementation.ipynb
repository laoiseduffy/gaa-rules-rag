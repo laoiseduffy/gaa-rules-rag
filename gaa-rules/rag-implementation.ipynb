{
 "cells": [
  {
   "cell_type": "code",
   "id": "initial_id",
   "metadata": {
    "collapsed": true
   },
   "source": [
    "%%capture\n",
    "!pip install llama-index==0.10.37 cohere==5.5.0 openai==1.30.1 llama-index-embeddings-openai==0.1.9 qdrant-client==1.9.1 llama-index-vector-stores-qdrant==0.2.8 "
   ],
   "outputs": [],
   "execution_count": null
  },
  {
   "metadata": {},
   "cell_type": "markdown",
   "source": "previously had this (llama-index-llms-cohere) above but removing solved pydantic problem",
   "id": "5723da7cc370cc06"
  },
  {
   "metadata": {},
   "cell_type": "markdown",
   "source": "# Load Variables and Models ",
   "id": "907485138e6dc99c"
  },
  {
   "metadata": {},
   "cell_type": "code",
   "source": [
    "import os\n",
    "import sys\n",
    "from getpass import getpass\n",
    "import nest_asyncio\n",
    "\n",
    "from IPython.display import Markdown, display\n",
    "\n",
    "from dotenv import load_dotenv\n",
    "\n",
    "nest_asyncio.apply()\n",
    "\n",
    "load_dotenv()\n",
    "\n",
    "sys.path.append('../helpers')\n",
    "\n",
    "from utils import setup_llm"
   ],
   "id": "93a6d39f777d1f3f",
   "outputs": [],
   "execution_count": null
  },
  {
   "metadata": {},
   "cell_type": "code",
   "source": "CO_API_KEY = os.environ['CO_API_KEY'] or getpass(\"Enter CO API KEY: \")",
   "id": "aec3b3720556e4f4",
   "outputs": [],
   "execution_count": null
  },
  {
   "metadata": {},
   "cell_type": "code",
   "source": "OPENAI_API_KEY = os.environ['OPENAI_API_KEY'] or getpass(\"Enter your OpenAI API key: \")",
   "id": "a9524f6aa2c252cf",
   "outputs": [],
   "execution_count": null
  },
  {
   "metadata": {},
   "cell_type": "code",
   "source": "QDRANT_URL = os.environ['QDRANT_URL'] or getpass(\"Enter your Qdrant URL:\")",
   "id": "7cce32879c0949b1",
   "outputs": [],
   "execution_count": null
  },
  {
   "metadata": {},
   "cell_type": "code",
   "source": "QDRANT_API_KEY = os.environ['QDRANT_API_KEY'] or  getpass(\"Enter your Qdrant API Key:\")",
   "id": "b4c9307e10156850",
   "outputs": [],
   "execution_count": null
  },
  {
   "metadata": {},
   "cell_type": "code",
   "source": [
    "from llama_index.core.settings import Settings\n",
    "from utils import setup_llm, setup_embed_model, setup_vector_store\n",
    "\n",
    "COLLECTION_NAME = \"rules-of-the-gaa\"\n",
    "\n",
    "setup_llm(\n",
    "    provider=\"cohere\",\n",
    "    model=\"command-r-plus\",\n",
    "    api_key=CO_API_KEY\n",
    ")\n",
    "\n",
    "# removed model_name from parameters here, defined in utils\n",
    "setup_embed_model(\n",
    "    provider=\"openai\",\n",
    "    api_key=OPENAI_API_KEY\n",
    ")\n",
    "\n",
    "vector_store = setup_vector_store(QDRANT_URL, QDRANT_API_KEY, COLLECTION_NAME)"
   ],
   "id": "96d9700f4e41f04b",
   "outputs": [],
   "execution_count": null
  },
  {
   "metadata": {},
   "cell_type": "code",
   "source": "Settings.llm",
   "id": "b89e13b47a943bae",
   "outputs": [],
   "execution_count": null
  },
  {
   "metadata": {},
   "cell_type": "code",
   "source": "Settings.embed_model",
   "id": "d64a53a1a429d719",
   "outputs": [],
   "execution_count": null
  },
  {
   "metadata": {},
   "cell_type": "markdown",
   "source": "# Load Docstore",
   "id": "a614592f6ac7ad4a"
  },
  {
   "metadata": {},
   "cell_type": "code",
   "source": [
    "from utils import get_documents_from_docstore\n",
    "\n",
    "documents = get_documents_from_docstore(\"../data/rules-of-the-gaa\")"
   ],
   "id": "f3f232d5008e772e",
   "outputs": [],
   "execution_count": null
  },
  {
   "metadata": {},
   "cell_type": "code",
   "source": "documents[0].__dict__",
   "id": "c9d62bd6564ddf00",
   "outputs": [],
   "execution_count": null
  },
  {
   "metadata": {},
   "cell_type": "markdown",
   "source": "# Ingest to VectorDatabase\n",
   "id": "a36a1155cb3ed352"
  },
  {
   "metadata": {},
   "cell_type": "code",
   "source": [
    "from llama_index.core.constants import DEFAULT_CHUNK_SIZE\n",
    "from llama_index.core.node_parser.text import SentenceSplitter\n",
    "from llama_index.core import StorageContext\n",
    "from utils import ingest\n",
    "\n",
    "print(f\"This is the chunk size: {DEFAULT_CHUNK_SIZE}\")\n",
    "\n",
    "tranforms = [\n",
    "    SentenceSplitter(chunk_size=DEFAULT_CHUNK_SIZE),\n",
    "    Settings.embed_model\n",
    "]\n",
    "\n",
    "nodes = ingest(\n",
    "    documents=documents,\n",
    "    transformations=tranforms,\n",
    "    vector_store=vector_store,\n",
    ")"
   ],
   "id": "26652998b0b84631",
   "outputs": [],
   "execution_count": null
  },
  {
   "metadata": {},
   "cell_type": "markdown",
   "source": "# Build Index over Vector database",
   "id": "d6c3ca6013616164"
  },
  {
   "metadata": {},
   "cell_type": "code",
   "source": [
    "from utils import create_index, create_query_engine\n",
    "\n",
    "index = create_index(\n",
    "    from_where=\"vector_store\",\n",
    "    embed_model=Settings.embed_model,\n",
    "    vector_store=vector_store,\n",
    ")\n",
    "\n",
    "query_engine = create_query_engine(\n",
    "    index=index,\n",
    "    mode=\"query\",\n",
    "    # llm=Settings.llm\n",
    ")"
   ],
   "id": "7055f5cedd8ccfa0",
   "outputs": [],
   "execution_count": null
  },
  {
   "metadata": {},
   "cell_type": "markdown",
   "source": "# Query",
   "id": "4b37599cbc8c51e1"
  },
  {
   "metadata": {},
   "cell_type": "code",
   "source": [
    "from utils import create_query_pipeline\n",
    "\n",
    "from llama_index.core.query_pipeline import InputComponent\n",
    "\n",
    "input_component = InputComponent()\n",
    "\n",
    "chain = [input_component, query_engine]\n",
    "\n",
    "query_pipeline = create_query_pipeline(chain)"
   ],
   "id": "5fa861937bdcfc7d",
   "outputs": [],
   "execution_count": null
  },
  {
   "metadata": {},
   "cell_type": "code",
   "source": "response_1 = query_pipeline.run(input=\"How many points is a goal worth?\")",
   "id": "9c36582265a8e6c6",
   "outputs": [],
   "execution_count": null
  },
  {
   "metadata": {},
   "cell_type": "code",
   "source": "print(response_1)",
   "id": "e857b43e225f24d7",
   "outputs": [],
   "execution_count": null
  },
  {
   "metadata": {},
   "cell_type": "code",
   "source": "response_1.source_nodes[0].__dict__",
   "id": "c17104ca062cc846",
   "outputs": [],
   "execution_count": null
  },
  {
   "metadata": {},
   "cell_type": "code",
   "source": "response_2 = query_pipeline.run(input=\"Is a goal worth 3 points?\")",
   "id": "7a1d904c2693929e",
   "outputs": [],
   "execution_count": null
  },
  {
   "metadata": {},
   "cell_type": "code",
   "source": "print(response_2)",
   "id": "f90160cb95b8262a",
   "outputs": [],
   "execution_count": null
  },
  {
   "metadata": {},
   "cell_type": "code",
   "source": "response_2.source_nodes[0].__dict__",
   "id": "8d9bb8829bf94959",
   "outputs": [],
   "execution_count": null
  },
  {
   "metadata": {},
   "cell_type": "code",
   "source": "len(response_2.source_nodes)",
   "id": "8fc1fc7e5e8fc4c4",
   "outputs": [],
   "execution_count": null
  },
  {
   "metadata": {},
   "cell_type": "code",
   "source": [
    "response_3 = query_pipeline.run(input=\"In ladies football how many point is a 45 worth?\")\n",
    "print(response_3)"
   ],
   "id": "6731c3715e0140e3",
   "outputs": [],
   "execution_count": null
  },
  {
   "metadata": {},
   "cell_type": "code",
   "source": "response_3.source_nodes[0].__dict__",
   "id": "c7487469729e7469",
   "outputs": [],
   "execution_count": null
  }
 ],
 "metadata": {
  "kernelspec": {
   "display_name": "GAA Rules RAG",
   "language": "python",
   "name": "gaa_rules"
  },
  "language_info": {
   "codemirror_mode": {
    "name": "ipython",
    "version": 2
   },
   "file_extension": ".py",
   "mimetype": "text/x-python",
   "name": "python",
   "nbconvert_exporter": "python",
   "pygments_lexer": "ipython2",
   "version": "2.7.6"
  }
 },
 "nbformat": 4,
 "nbformat_minor": 5
}
